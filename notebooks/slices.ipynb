{
 "cells": [
  {
   "cell_type": "code",
   "execution_count": 1,
   "metadata": {},
   "outputs": [],
   "source": [
    "import (\n",
    " \"fmt\"\n",
    " \"sort\"\n",
    ")\n",
    "\n"
   ]
  },
  {
   "cell_type": "code",
   "execution_count": 2,
   "metadata": {},
   "outputs": [],
   "source": [
    "nums := []int { 10, 5 , 3, 15, 30, 20 , 25, 40}"
   ]
  },
  {
   "cell_type": "code",
   "execution_count": 3,
   "metadata": {},
   "outputs": [
    {
     "name": "stdout",
     "output_type": "stream",
     "text": [
      "[10 5 3 15 30 20 25 40]\n"
     ]
    },
    {
     "data": {
      "text/plain": [
       "24 <nil>"
      ]
     },
     "execution_count": 3,
     "metadata": {},
     "output_type": "execute_result"
    }
   ],
   "source": [
    "fmt.Println(nums)"
   ]
  },
  {
   "cell_type": "code",
   "execution_count": 4,
   "metadata": {},
   "outputs": [],
   "source": [
    "sort.Slice(nums, func (i, j int) bool { return nums[i] < nums[j] })"
   ]
  },
  {
   "cell_type": "code",
   "execution_count": 5,
   "metadata": {},
   "outputs": [
    {
     "name": "stdout",
     "output_type": "stream",
     "text": [
      "[3 5 10 15 20 25 30 40]\n"
     ]
    },
    {
     "data": {
      "text/plain": [
       "24 <nil>"
      ]
     },
     "execution_count": 5,
     "metadata": {},
     "output_type": "execute_result"
    }
   ],
   "source": [
    "fmt.Println(nums)\n"
   ]
  },
  {
   "cell_type": "code",
   "execution_count": 7,
   "metadata": {},
   "outputs": [
    {
     "name": "stdout",
     "output_type": "stream",
     "text": [
      "[40 30 25 20 15 10 5 3]\n"
     ]
    },
    {
     "data": {
      "text/plain": [
       "24 <nil>"
      ]
     },
     "execution_count": 7,
     "metadata": {},
     "output_type": "execute_result"
    }
   ],
   "source": [
    "sort.Slice(nums, func (i, j int) bool { return nums[i] > nums[j]})\n",
    "fmt.Println(nums)"
   ]
  },
  {
   "cell_type": "code",
   "execution_count": 18,
   "metadata": {},
   "outputs": [
    {
     "name": "stdout",
     "output_type": "stream",
     "text": [
      "[{1 jon} {3 alice} {2 bob}]\n"
     ]
    },
    {
     "data": {
      "text/plain": [
       "28 <nil>"
      ]
     },
     "execution_count": 18,
     "metadata": {},
     "output_type": "execute_result"
    }
   ],
   "source": [
    "\tnames := []struct {\n",
    "\t\tid   int\n",
    "\t\tname string\n",
    "\t}{\n",
    "\t\t{\n",
    "\t\t\tid:   1,\n",
    "\t\t\tname: \"jon\",\n",
    "\t\t},\n",
    "\t\t{\n",
    "\t\t\tid:   3,\n",
    "\t\t\tname: \"alice\",\n",
    "\t\t},\n",
    "        {\n",
    "            id: 2,\n",
    "            name: \"bob\",\n",
    "        },\n",
    "\t}\n",
    "\n",
    "\tfmt.Println(names)"
   ]
  },
  {
   "cell_type": "code",
   "execution_count": 19,
   "metadata": {},
   "outputs": [
    {
     "name": "stdout",
     "output_type": "stream",
     "text": [
      "[{1 jon} {2 bob} {3 alice}]\n"
     ]
    },
    {
     "data": {
      "text/plain": [
       "28 <nil>"
      ]
     },
     "execution_count": 19,
     "metadata": {},
     "output_type": "execute_result"
    }
   ],
   "source": [
    "sort.Slice(names, func (i, j int) bool { return names[i].id < names[j].id } )\n",
    "fmt.Println(names)"
   ]
  },
  {
   "cell_type": "code",
   "execution_count": 22,
   "metadata": {},
   "outputs": [
    {
     "name": "stdout",
     "output_type": "stream",
     "text": [
      "[{1 jon} {3 alice} {2 bob}]\n"
     ]
    },
    {
     "data": {
      "text/plain": [
       "28 <nil>"
      ]
     },
     "execution_count": 22,
     "metadata": {},
     "output_type": "execute_result"
    }
   ],
   "source": [
    "type User struct {\n",
    "\t\tid   int\n",
    "\t\tname string\n",
    "\t}\n",
    "\n",
    "users := []User{\n",
    "\t\t{\n",
    "\t\t\tid:   1,\n",
    "\t\t\tname: \"jon\",\n",
    "\t\t},\n",
    "\t\t{\n",
    "\t\t\tid:   3,\n",
    "\t\t\tname: \"alice\",\n",
    "\t\t},\n",
    "        {\n",
    "            id: 2,\n",
    "            name: \"bob\",\n",
    "        },\n",
    "\t}\n",
    "\n",
    "fmt.Println(users)"
   ]
  },
  {
   "cell_type": "code",
   "execution_count": 26,
   "metadata": {},
   "outputs": [
    {
     "name": "stdout",
     "output_type": "stream",
     "text": [
      "[{1 jon} {2 bob} {3 alice}]\n"
     ]
    },
    {
     "data": {
      "text/plain": [
       "28 <nil>"
      ]
     },
     "execution_count": 26,
     "metadata": {},
     "output_type": "execute_result"
    }
   ],
   "source": [
    "sort.Slice(names, func(i, j int) bool { return names[j].name < names[i].name })\n",
    "fmt.Println(names)"
   ]
  },
  {
   "cell_type": "code",
   "execution_count": 28,
   "metadata": {},
   "outputs": [],
   "source": [
    "// Sorting by name in ascending order, and if names are equal, sorting by age in descending order\n",
    "\tsort.Slice(users, func(i, j int) bool {\n",
    "\t\tif users[i].name != users[j].name {\n",
    "\t\t\treturn users[i].name < users[j].name\n",
    "\t\t}\n",
    "\t\treturn users[i].id > users[j].id\n",
    "\t})"
   ]
  },
  {
   "cell_type": "code",
   "execution_count": null,
   "metadata": {},
   "outputs": [],
   "source": []
  }
 ],
 "metadata": {
  "kernelspec": {
   "display_name": "Go",
   "language": "go",
   "name": "gophernotes"
  },
  "language_info": {
   "codemirror_mode": "",
   "file_extension": ".go",
   "mimetype": "",
   "name": "go",
   "nbconvert_exporter": "",
   "pygments_lexer": "",
   "version": "go1.11.4"
  }
 },
 "nbformat": 4,
 "nbformat_minor": 2
}
