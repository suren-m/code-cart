{
 "cells": [
  {
   "cell_type": "code",
   "execution_count": 1,
   "metadata": {},
   "outputs": [],
   "source": [
    "// https://leetcode.com/problems/longest-substring-without-repeating-characters/\n",
    "\n",
    "// substring not subsequence\n",
    "// sliding window with two pointers\n",
    "// move left (start) pointer when duplicate is found\n",
    "func lengthOfLongestSubstring(s string) int {\n",
    "\tknownChars := make(map[rune]int, len(s))\n",
    "\tvar start, end, max, currMax int = 0, 0, 0, 0\n",
    "\n",
    "\tfor i, ch := range s {\n",
    "\t\tprevOccurence, chAlreadyExists := knownChars[ch]\n",
    "\t\tif chAlreadyExists {\n",
    "\t\t\tif start <= prevOccurence { // duplicate found if this is true\n",
    "\t\t\t\tcurrMax = end - start\n",
    "\t\t\t\tmax = getMax(currMax, max)\n",
    "\t\t\t\tstart = prevOccurence + 1 // new start (move left)\n",
    "\t\t\t}\n",
    "\t\t}\n",
    "\t\tend = end + 1\n",
    "\t\tknownChars[ch] = i\n",
    "\t}\n",
    "\tcurrMax = end - start // max may be found from last char. (e.g: pwwkew)\n",
    "\treturn getMax(currMax, max)\n",
    "}\n",
    "\n",
    "func getMax(a, b int) int {\n",
    "\tif a > b {\n",
    "\t\treturn a\n",
    "\t} else {\n",
    "\t\treturn b\n",
    "\t}\n",
    "}"
   ]
  },
  {
   "cell_type": "code",
   "execution_count": 3,
   "metadata": {},
   "outputs": [
    {
     "name": "stdout",
     "output_type": "stream",
     "text": [
      "3\n",
      "1\n",
      "3\n"
     ]
    },
    {
     "data": {
      "text/plain": [
       "2 <nil>"
      ]
     },
     "execution_count": 3,
     "metadata": {},
     "output_type": "execute_result"
    }
   ],
   "source": [
    "import \"fmt\"\n",
    "fmt.Println(lengthOfLongestSubstring(\"abcabcbb\"))\n",
    "fmt.Println(lengthOfLongestSubstring(\"bbbbb\"))\n",
    "fmt.Println(lengthOfLongestSubstring(\"pwwkew\"))"
   ]
  },
  {
   "attachments": {},
   "cell_type": "markdown",
   "metadata": {},
   "source": [
    "**For the input 'abcabcbb':**\n",
    "\n",
    "| Iteration | Current Character | `knownChars`           | `start` | `end` | `currMax` | `max` | `chAlreadyExists` |\n",
    "|-----------|-------------------|------------------------|---------|-------|-----------|-------|-------------------|\n",
    "| 0         | a                 | {\"a\": 0}               | 0       | 1     | 0         | 0     | false             |\n",
    "| 1         | b                 | {\"a\": 0, \"b\": 1}       | 0       | 2     | 0         | 0     | false             |\n",
    "| 2         | c                 | {\"a\": 0, \"b\": 1, \"c\": 2} | 0 | 3 | 0 | 0 | false     |\n",
    "| 3         | a                 | {\"a\": 3, \"b\": 1, \"c\": 2} | 1 | 4 | 3 | 3 | true      |\n",
    "| 4         | b                 | {\"a\": 3, \"b\": 4, \"c\": 2} | 2 | 5 | 3 | 3 | true      |\n",
    "| 5         | c                 | {\"a\": 3, \"b\": 4, \"c\": 5} | 3 | 6 | 3 | 3 | true      |\n",
    "| 6         | b                 | {\"a\": 3, \"b\": 6, \"c\": 5} | 5 | 7 | 3 | 3 | true      |\n",
    "| 7         | b                 | {\"a\": 3, \"b\": 7, \"c\": 5} | 7 | 8 | 2 | 3 | true      |\n",
    "\n",
    "After the final iteration, `currMax` is updated to `1` (`end` - `start`), and `max` remains `3` as it's the maximum length found. The function returns `max`, which is `3`.\n",
    "\n",
    "**For the input 'bbbbb':**\n",
    "\n",
    "| Iteration | Current Character | `knownChars` | `start` | `end` | `currMax` | `max` | `chAlreadyExists` |\n",
    "|-----------|-------------------|--------------|---------|-------|-----------|-------|-------------------|\n",
    "| 0         | b                 | {\"b\": 0}     | 0       | 1     | 0         | 0     | false             |\n",
    "| 1         | b                 | {\"b\": 1}     | 1       | 2     | 1         | 1     | true              |\n",
    "| 2         | b                 | {\"b\": 2}     | 2       | 3     | 1         | 1     | true              |\n",
    "| 3         | b                 | {\"b\": 3}     | 3       | 4     | 1         | 1     | true              |\n",
    "| 4         | b                 | {\"b\": 4}     | 4       | 5     | 1         | 1     | true              |\n",
    "\n",
    "After the final iteration, `currMax` is updated to `1` (`end` - `start`), and `max` remains `1` as it's the maximum length found. The function returns `max`, which is `1`.\n",
    "\n",
    "**For the input 'pwwkew':**\n",
    "\n",
    "| Iteration | Current Character | `knownChars`                 | `start` | `end` | `currMax` | `max` | `chAlreadyExists` |\n",
    "|-----------|-------------------|----------------------------|---------|-------|-----------|-------|-------------------|\n",
    "| 0         | p                 | {\"p\": 0}                     | 0       | 1     | 0         | 0     | false             |\n",
    "| 1         | w                 | {\"p\": 0, \"w\": 1}             | 0       | 2     | 0         | 0     | false             |\n",
    "| 2         | w                 | {\"p\": 0, \"w\": 2}             | 2       | 3     | 2         | 2     | true              |\n",
    "| 3         | k                 | {\"p\": 0, \"w\": 2, \"k\": 3}     | 2       | 4     | 2         | 2     | false             |\n",
    "| 4         | e                 | {\"p\": 0, \"w\": 2, \"k\": 3, \"e\": 4} | 2 | 5 | 2 | 2 | false |\n",
    "| 5         | w                 | {\"p\": 0, \"w\": 5, \"k\": 3, \"e\": 4} | 3 | 6 | 3 | 3 | true  |\n",
    "\n",
    "After the final iteration, `currMax` is updated to `3` (`end` - `start`), and `max` remains `3` as it's the maximum length found. The function returns `max`, which is `3`."
   ]
  }
 ],
 "metadata": {
  "kernelspec": {
   "display_name": "Go",
   "language": "go",
   "name": "gophernotes"
  },
  "language_info": {
   "codemirror_mode": "",
   "file_extension": ".go",
   "mimetype": "",
   "name": "go",
   "nbconvert_exporter": "",
   "pygments_lexer": "",
   "version": "go1.20.5"
  },
  "orig_nbformat": 4
 },
 "nbformat": 4,
 "nbformat_minor": 2
}
