{
 "cells": [
  {
   "cell_type": "code",
   "execution_count": 3,
   "metadata": {},
   "outputs": [],
   "source": [
    "// https://leetcode.com/problems/best-time-to-buy-and-sell-stock/\n",
    "// max diff between increasing elements\n",
    "// similar to kadane's algorithm\n",
    "\n",
    "func maxProfit(prices []int) int {\n",
    "\tif len(prices) <= 1 {\n",
    "\t\treturn 0\n",
    "\t}\n",
    "\tmaxDiff, knownMin := 0, prices[0]\n",
    "\tfor _, price := range prices {\n",
    "\t\tnewDiff := price - knownMin\t\t\n",
    "\t\tif price < knownMin {\n",
    "\t\t\tknownMin = price\n",
    "\t\t} else if newDiff > maxDiff {\n",
    "\t\t\tmaxDiff = newDiff\n",
    "\t\t} \n",
    "\t\t// else just carry on\n",
    "\t}\n",
    "\treturn maxDiff\n",
    "}"
   ]
  },
  {
   "cell_type": "code",
   "execution_count": 4,
   "metadata": {},
   "outputs": [
    {
     "name": "stdout",
     "output_type": "stream",
     "text": [
      "5\n"
     ]
    },
    {
     "data": {
      "text/plain": [
       "2 <nil>"
      ]
     },
     "execution_count": 4,
     "metadata": {},
     "output_type": "execute_result"
    }
   ],
   "source": [
    "import \"fmt\"\n",
    "\n",
    "fmt.Println(maxProfit([]int {7, 1, 5, 3, 6, 4}))"
   ]
  },
  {
   "cell_type": "code",
   "execution_count": null,
   "metadata": {},
   "outputs": [],
   "source": []
  }
 ],
 "metadata": {
  "kernelspec": {
   "display_name": "Go",
   "language": "go",
   "name": "gophernotes"
  },
  "language_info": {
   "codemirror_mode": "",
   "file_extension": ".go",
   "mimetype": "",
   "name": "go",
   "nbconvert_exporter": "",
   "pygments_lexer": "",
   "version": "go1.20.5"
  },
  "orig_nbformat": 4
 },
 "nbformat": 4,
 "nbformat_minor": 2
}
